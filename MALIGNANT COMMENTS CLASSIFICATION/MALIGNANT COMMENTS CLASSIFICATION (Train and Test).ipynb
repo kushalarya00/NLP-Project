{
 "cells": [
  {
   "cell_type": "markdown",
   "id": "d88eb096",
   "metadata": {
    "id": "d88eb096"
   },
   "source": [
    "### Problem Statement:\n",
    "\n",
    "**The proliferation of social media enables people to express their opinions widely online. However, at the same time, this has resulted in the emergence of conflict and hate, making online environments uninviting for users. Although researchers have found that hate is a problem across multiple platforms, there is a lack of models for online hate detection.**\n",
    "\n",
    "**Online hate, described as abusive language, aggression, cyberbullying, hatefulness and many others has been identified as a major threat on online social media platforms. Social media platforms are the most prominent grounds for such toxic behaviour.**\n",
    "\n",
    "**There has been a remarkable increase in the cases of cyberbullying and trolls on various social media platforms. Many celebrities and influences are facing backlashes from people and have to come across hateful and offensive comments. This can take a toll on anyone and affect them mentally leading to depression, mental illness, self-hatred and suicidal thoughts.**\n",
    "\n",
    "**Internet comments are bastions of hatred and vitriol. While online anonymity has provided a new outlet for aggression and hate speech, machine learning can be used to fight it. The problem we sought to solve was the tagging of internet comments that are aggressive towards other users. This means that insults to third parties such as celebrities will be tagged as unoffensive, but “u are an idiot” is clearly offensive.**\n",
    "\n",
    "**Our goal is to build a prototype of online hate and abuse comment classifier which can used to classify hate and offensive comments so that it can be controlled and restricted from spreading hatred and cyberbullying.** \n",
    "\n",
    "    "
   ]
  },
  {
   "cell_type": "markdown",
   "id": "24643bcd",
   "metadata": {
    "id": "24643bcd"
   },
   "source": [
    "### Importing Required Library"
   ]
  },
  {
   "cell_type": "code",
   "execution_count": 2,
   "id": "777581b7",
   "metadata": {
    "id": "777581b7"
   },
   "outputs": [],
   "source": [
    "import pandas as pd\n",
    "import numpy as np\n",
    "import matplotlib.pyplot as plt\n",
    "import seaborn as sns\n",
    "import pickle\n",
    "import klib as kl\n",
    "import nltk\n",
    "import re\n",
    "from nltk.corpus import stopwords\n",
    "from imblearn.over_sampling import SMOTE\n",
    "from nltk.stem.porter import PorterStemmer\n",
    "from sklearn.feature_extraction.text import CountVectorizer\n",
    "from sklearn.naive_bayes import MultinomialNB\n",
    "from sklearn.model_selection import train_test_split, GridSearchCV, cross_val_score\n",
    "from sklearn.preprocessing import MinMaxScaler, StandardScaler\n",
    "from sklearn.metrics import classification_report, roc_auc_score, roc_curve, plot_roc_curve, accuracy_score, confusion_matrix\n",
    "%matplotlib inline\n",
    "\n",
    "import warnings\n",
    "warnings.filterwarnings('ignore')"
   ]
  },
  {
   "cell_type": "markdown",
   "id": "2c7eb82e",
   "metadata": {
    "id": "2c7eb82e"
   },
   "source": [
    "### Reading Train Data"
   ]
  },
  {
   "cell_type": "code",
   "execution_count": 5,
   "id": "ykkGVOeWz59N",
   "metadata": {
    "colab": {
     "base_uri": "https://localhost:8080/",
     "height": 89,
     "resources": {
      "http://localhost:8080/nbextensions/google.colab/files.js": {
       "data": "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",
       "headers": [
        [
         "content-type",
         "application/javascript"
        ]
       ],
       "ok": true,
       "status": 200,
       "status_text": ""
      }
     }
    },
    "id": "ykkGVOeWz59N",
    "outputId": "595d7425-2589-4ab9-9ce0-46c0d9bbacfd"
   },
   "outputs": [
    {
     "data": {
      "text/html": [
       "\n",
       "     <input type=\"file\" id=\"files-19bdf032-fd62-41f0-9638-b287de52ee17\" name=\"files[]\" multiple disabled\n",
       "        style=\"border:none\" />\n",
       "     <output id=\"result-19bdf032-fd62-41f0-9638-b287de52ee17\">\n",
       "      Upload widget is only available when the cell has been executed in the\n",
       "      current browser session. Please rerun this cell to enable.\n",
       "      </output>\n",
       "      <script src=\"/nbextensions/google.colab/files.js\"></script> "
      ],
      "text/plain": [
       "<IPython.core.display.HTML object>"
      ]
     },
     "metadata": {},
     "output_type": "display_data"
    },
    {
     "name": "stdout",
     "output_type": "stream",
     "text": [
      "Saving test.csv to test.csv\n",
      "User uploaded file \"test.csv\" with length 60354593 bytes\n"
     ]
    }
   ],
   "source": [
    "from google.colab import files\n",
    "\n",
    "uploaded = files.upload()\n",
    "\n",
    "for fn in uploaded.keys():\n",
    "  print('User uploaded file \"{name}\" with length {length} bytes'.format(\n",
    "      name=fn, length=len(uploaded[fn])))"
   ]
  },
  {
   "cell_type": "code",
   "execution_count": 4,
   "id": "e388d909",
   "metadata": {
    "colab": {
     "base_uri": "https://localhost:8080/",
     "height": 204
    },
    "id": "e388d909",
    "outputId": "56f83fd1-6292-47b9-9eb6-e71e32ba3b80"
   },
   "outputs": [
    {
     "data": {
      "text/html": [
       "<div>\n",
       "<style scoped>\n",
       "    .dataframe tbody tr th:only-of-type {\n",
       "        vertical-align: middle;\n",
       "    }\n",
       "\n",
       "    .dataframe tbody tr th {\n",
       "        vertical-align: top;\n",
       "    }\n",
       "\n",
       "    .dataframe thead th {\n",
       "        text-align: right;\n",
       "    }\n",
       "</style>\n",
       "<table border=\"1\" class=\"dataframe\">\n",
       "  <thead>\n",
       "    <tr style=\"text-align: right;\">\n",
       "      <th></th>\n",
       "      <th>id</th>\n",
       "      <th>comment_text</th>\n",
       "      <th>malignant</th>\n",
       "      <th>highly_malignant</th>\n",
       "      <th>rude</th>\n",
       "      <th>threat</th>\n",
       "      <th>abuse</th>\n",
       "      <th>loathe</th>\n",
       "    </tr>\n",
       "  </thead>\n",
       "  <tbody>\n",
       "    <tr>\n",
       "      <th>0</th>\n",
       "      <td>0000997932d777bf</td>\n",
       "      <td>Explanation\\nWhy the edits made under my usern...</td>\n",
       "      <td>0</td>\n",
       "      <td>0</td>\n",
       "      <td>0</td>\n",
       "      <td>0</td>\n",
       "      <td>0</td>\n",
       "      <td>0</td>\n",
       "    </tr>\n",
       "    <tr>\n",
       "      <th>1</th>\n",
       "      <td>000103f0d9cfb60f</td>\n",
       "      <td>D'aww! He matches this background colour I'm s...</td>\n",
       "      <td>0</td>\n",
       "      <td>0</td>\n",
       "      <td>0</td>\n",
       "      <td>0</td>\n",
       "      <td>0</td>\n",
       "      <td>0</td>\n",
       "    </tr>\n",
       "    <tr>\n",
       "      <th>2</th>\n",
       "      <td>000113f07ec002fd</td>\n",
       "      <td>Hey man, I'm really not trying to edit war. It...</td>\n",
       "      <td>0</td>\n",
       "      <td>0</td>\n",
       "      <td>0</td>\n",
       "      <td>0</td>\n",
       "      <td>0</td>\n",
       "      <td>0</td>\n",
       "    </tr>\n",
       "    <tr>\n",
       "      <th>3</th>\n",
       "      <td>0001b41b1c6bb37e</td>\n",
       "      <td>\"\\nMore\\nI can't make any real suggestions on ...</td>\n",
       "      <td>0</td>\n",
       "      <td>0</td>\n",
       "      <td>0</td>\n",
       "      <td>0</td>\n",
       "      <td>0</td>\n",
       "      <td>0</td>\n",
       "    </tr>\n",
       "    <tr>\n",
       "      <th>4</th>\n",
       "      <td>0001d958c54c6e35</td>\n",
       "      <td>You, sir, are my hero. Any chance you remember...</td>\n",
       "      <td>0</td>\n",
       "      <td>0</td>\n",
       "      <td>0</td>\n",
       "      <td>0</td>\n",
       "      <td>0</td>\n",
       "      <td>0</td>\n",
       "    </tr>\n",
       "  </tbody>\n",
       "</table>\n",
       "</div>"
      ],
      "text/plain": [
       "                 id  ... loathe\n",
       "0  0000997932d777bf  ...      0\n",
       "1  000103f0d9cfb60f  ...      0\n",
       "2  000113f07ec002fd  ...      0\n",
       "3  0001b41b1c6bb37e  ...      0\n",
       "4  0001d958c54c6e35  ...      0\n",
       "\n",
       "[5 rows x 8 columns]"
      ]
     },
     "execution_count": 4,
     "metadata": {},
     "output_type": "execute_result"
    }
   ],
   "source": [
    "df = pd.read_csv('/content/sample_data/train.csv')\n",
    "df.head()"
   ]
  },
  {
   "cell_type": "markdown",
   "id": "d2551514",
   "metadata": {
    "id": "d2551514"
   },
   "source": [
    "### Data Set Description\n",
    "\n",
    "The data set contains the training set, which has approximately 1,59,000 samples and the test set which contains nearly 1,53,000 samples. All the data samples contain 8 fields which includes ‘Id’, ‘Comments’, ‘Malignant’, ‘Highly malignant’, ‘Rude’, ‘Threat’, ‘Abuse’ and ‘Loathe’. \n",
    "The label can be either 0 or 1, where 0 denotes a NO while 1 denotes a YES. There are various comments which have multiple labels. The first attribute is a unique ID associated with each comment.   \n",
    "The data set includes:\n",
    "\n",
    " - **Malignant:** It is the Label column, which includes values 0 and 1, denoting if the comment is          malignant or not. \n",
    " \n",
    " -\t**Highly Malignant:** It denotes comments that are highly malignant and hurtful. \n",
    " \n",
    " -\t**Rude:** It denotes comments that are very rude and offensive.\n",
    " \n",
    " -\t**Threat:** It contains indication of the comments that are giving any threat to someone. \n",
    " \n",
    " -\t**Abuse:** It is for comments that are abusive in nature. \n",
    " \n",
    " -\t**Loathe:** It describes the comments which are hateful and loathing in nature.\n",
    " \n",
    " -\t**ID:** It includes unique Ids associated with each comment text given.   \n",
    " \n",
    " -\t**Comment text:** This column contains the comments extracted from various social media platforms.\n"
   ]
  },
  {
   "cell_type": "markdown",
   "id": "84830da6",
   "metadata": {
    "id": "84830da6"
   },
   "source": [
    "### Check no of row and column"
   ]
  },
  {
   "cell_type": "code",
   "execution_count": null,
   "id": "e2dc0b16",
   "metadata": {
    "colab": {
     "base_uri": "https://localhost:8080/"
    },
    "id": "e2dc0b16",
    "outputId": "2b62593f-b924-417e-e830-0b71413aa7ec"
   },
   "outputs": [
    {
     "name": "stdout",
     "output_type": "stream",
     "text": [
      "No of Rows and Columns -----> (159571, 8)\n"
     ]
    }
   ],
   "source": [
    "print('No of Rows and Columns ----->', df.shape )"
   ]
  },
  {
   "cell_type": "markdown",
   "id": "e926e7d3",
   "metadata": {
    "id": "e926e7d3"
   },
   "source": [
    "### Checking for Null values"
   ]
  },
  {
   "cell_type": "code",
   "execution_count": null,
   "id": "e25285eb",
   "metadata": {
    "id": "e25285eb",
    "outputId": "ceafddc6-a748-4fe3-df4e-7f1ae6878ee3"
   },
   "outputs": [
    {
     "name": "stdout",
     "output_type": "stream",
     "text": [
      "================================\n",
      "\n",
      "id                  0\n",
      "comment_text        0\n",
      "malignant           0\n",
      "highly_malignant    0\n",
      "rude                0\n",
      "threat              0\n",
      "abuse               0\n",
      "loathe              0\n",
      "dtype: int64\n",
      "\n",
      "================================\n"
     ]
    }
   ],
   "source": [
    "print('================================\\n')\n",
    "print(df.isnull().sum())\n",
    "print('\\n================================')"
   ]
  },
  {
   "cell_type": "markdown",
   "id": "494989a3",
   "metadata": {
    "id": "494989a3"
   },
   "source": [
    "#### There is no null value"
   ]
  },
  {
   "cell_type": "markdown",
   "id": "c9b2839c",
   "metadata": {
    "id": "c9b2839c"
   },
   "source": [
    "### Information about dataset"
   ]
  },
  {
   "cell_type": "code",
   "execution_count": null,
   "id": "f1facaa2",
   "metadata": {
    "id": "f1facaa2",
    "outputId": "e82b1a2e-3f6d-4ca0-8343-16e37ee8bc8a"
   },
   "outputs": [
    {
     "name": "stdout",
     "output_type": "stream",
     "text": [
      "==================================================\n",
      "\n",
      "<class 'pandas.core.frame.DataFrame'>\n",
      "RangeIndex: 159571 entries, 0 to 159570\n",
      "Data columns (total 8 columns):\n",
      " #   Column            Non-Null Count   Dtype \n",
      "---  ------            --------------   ----- \n",
      " 0   id                159571 non-null  object\n",
      " 1   comment_text      159571 non-null  object\n",
      " 2   malignant         159571 non-null  int64 \n",
      " 3   highly_malignant  159571 non-null  int64 \n",
      " 4   rude              159571 non-null  int64 \n",
      " 5   threat            159571 non-null  int64 \n",
      " 6   abuse             159571 non-null  int64 \n",
      " 7   loathe            159571 non-null  int64 \n",
      "dtypes: int64(6), object(2)\n",
      "memory usage: 9.7+ MB\n",
      "None\n",
      "====================================================\n"
     ]
    }
   ],
   "source": [
    "print('==================================================\\n')\n",
    "print(df.info())\n",
    "print('====================================================')"
   ]
  },
  {
   "cell_type": "markdown",
   "id": "324e6324",
   "metadata": {
    "id": "324e6324"
   },
   "source": [
    "#### Categorical data present in our data set"
   ]
  },
  {
   "cell_type": "markdown",
   "id": "7d06b606",
   "metadata": {
    "id": "7d06b606"
   },
   "source": [
    "### Analysis of Data"
   ]
  },
  {
   "cell_type": "code",
   "execution_count": null,
   "id": "27ddb99d",
   "metadata": {
    "id": "27ddb99d",
    "outputId": "30a7f6f2-72f1-4b23-896d-bcfc880d2c54"
   },
   "outputs": [
    {
     "data": {
      "text/html": [
       "<div>\n",
       "<style scoped>\n",
       "    .dataframe tbody tr th:only-of-type {\n",
       "        vertical-align: middle;\n",
       "    }\n",
       "\n",
       "    .dataframe tbody tr th {\n",
       "        vertical-align: top;\n",
       "    }\n",
       "\n",
       "    .dataframe thead th {\n",
       "        text-align: right;\n",
       "    }\n",
       "</style>\n",
       "<table border=\"1\" class=\"dataframe\">\n",
       "  <thead>\n",
       "    <tr style=\"text-align: right;\">\n",
       "      <th></th>\n",
       "      <th>id</th>\n",
       "      <th>comment_text</th>\n",
       "      <th>malignant</th>\n",
       "    </tr>\n",
       "  </thead>\n",
       "  <tbody>\n",
       "    <tr>\n",
       "      <th>6</th>\n",
       "      <td>0002bcb3da6cb337</td>\n",
       "      <td>COCKSUCKER BEFORE YOU PISS AROUND ON MY WORK</td>\n",
       "      <td>1</td>\n",
       "    </tr>\n",
       "    <tr>\n",
       "      <th>12</th>\n",
       "      <td>0005c987bdfc9d4b</td>\n",
       "      <td>Hey... what is it..\\n@ | talk .\\nWhat is it......</td>\n",
       "      <td>1</td>\n",
       "    </tr>\n",
       "    <tr>\n",
       "      <th>16</th>\n",
       "      <td>0007e25b2121310b</td>\n",
       "      <td>Bye! \\n\\nDon't look, come or think of comming ...</td>\n",
       "      <td>1</td>\n",
       "    </tr>\n",
       "    <tr>\n",
       "      <th>42</th>\n",
       "      <td>001810bf8c45bf5f</td>\n",
       "      <td>You are gay or antisemmitian? \\n\\nArchangel WH...</td>\n",
       "      <td>1</td>\n",
       "    </tr>\n",
       "    <tr>\n",
       "      <th>43</th>\n",
       "      <td>00190820581d90ce</td>\n",
       "      <td>FUCK YOUR FILTHY MOTHER IN THE ASS, DRY!</td>\n",
       "      <td>1</td>\n",
       "    </tr>\n",
       "    <tr>\n",
       "      <th>...</th>\n",
       "      <td>...</td>\n",
       "      <td>...</td>\n",
       "      <td>...</td>\n",
       "    </tr>\n",
       "    <tr>\n",
       "      <th>159494</th>\n",
       "      <td>fef4cf7ba0012866</td>\n",
       "      <td>\"\\n\\n our previous conversation \\n\\nyou fuckin...</td>\n",
       "      <td>1</td>\n",
       "    </tr>\n",
       "    <tr>\n",
       "      <th>159514</th>\n",
       "      <td>ff39a2895fc3b40e</td>\n",
       "      <td>YOU ARE A MISCHIEVIOUS PUBIC HAIR</td>\n",
       "      <td>1</td>\n",
       "    </tr>\n",
       "    <tr>\n",
       "      <th>159541</th>\n",
       "      <td>ffa33d3122b599d6</td>\n",
       "      <td>Your absurd edits \\n\\nYour absurd edits on gre...</td>\n",
       "      <td>1</td>\n",
       "    </tr>\n",
       "    <tr>\n",
       "      <th>159546</th>\n",
       "      <td>ffb47123b2d82762</td>\n",
       "      <td>\"\\n\\nHey listen don't you ever!!!! Delete my e...</td>\n",
       "      <td>1</td>\n",
       "    </tr>\n",
       "    <tr>\n",
       "      <th>159554</th>\n",
       "      <td>ffbdbb0483ed0841</td>\n",
       "      <td>and i'm going to keep posting the stuff u dele...</td>\n",
       "      <td>1</td>\n",
       "    </tr>\n",
       "  </tbody>\n",
       "</table>\n",
       "<p>15294 rows × 3 columns</p>\n",
       "</div>"
      ],
      "text/plain": [
       "                      id                                       comment_text  \\\n",
       "6       0002bcb3da6cb337       COCKSUCKER BEFORE YOU PISS AROUND ON MY WORK   \n",
       "12      0005c987bdfc9d4b  Hey... what is it..\\n@ | talk .\\nWhat is it......   \n",
       "16      0007e25b2121310b  Bye! \\n\\nDon't look, come or think of comming ...   \n",
       "42      001810bf8c45bf5f  You are gay or antisemmitian? \\n\\nArchangel WH...   \n",
       "43      00190820581d90ce           FUCK YOUR FILTHY MOTHER IN THE ASS, DRY!   \n",
       "...                  ...                                                ...   \n",
       "159494  fef4cf7ba0012866  \"\\n\\n our previous conversation \\n\\nyou fuckin...   \n",
       "159514  ff39a2895fc3b40e                  YOU ARE A MISCHIEVIOUS PUBIC HAIR   \n",
       "159541  ffa33d3122b599d6  Your absurd edits \\n\\nYour absurd edits on gre...   \n",
       "159546  ffb47123b2d82762  \"\\n\\nHey listen don't you ever!!!! Delete my e...   \n",
       "159554  ffbdbb0483ed0841  and i'm going to keep posting the stuff u dele...   \n",
       "\n",
       "        malignant  \n",
       "6               1  \n",
       "12              1  \n",
       "16              1  \n",
       "42              1  \n",
       "43              1  \n",
       "...           ...  \n",
       "159494          1  \n",
       "159514          1  \n",
       "159541          1  \n",
       "159546          1  \n",
       "159554          1  \n",
       "\n",
       "[15294 rows x 3 columns]"
      ]
     },
     "execution_count": 6,
     "metadata": {},
     "output_type": "execute_result"
    }
   ],
   "source": [
    "df[df['malignant'] ==1][df.columns[0:3]]"
   ]
  },
  {
   "cell_type": "code",
   "execution_count": null,
   "id": "1419f88b",
   "metadata": {
    "id": "1419f88b",
    "outputId": "d52498f4-3be1-4466-dad3-b3c8517a4ea7"
   },
   "outputs": [
    {
     "data": {
      "text/plain": [
       "6         0002bcb3da6cb337\n",
       "55        0020e7119b96eeeb\n",
       "181       006e87872c8b370c\n",
       "442       01208d2b76624130\n",
       "579       018663f910e0bfe6\n",
       "                ...       \n",
       "159096    f871b05d4caa6f20\n",
       "159099    f885a3e2d779342e\n",
       "159281    fb726deec64157bd\n",
       "159312    fbf20e312cd4a78d\n",
       "159400    fd052883fa6a8697\n",
       "Name: id, Length: 1595, dtype: object"
      ]
     },
     "execution_count": 7,
     "metadata": {},
     "output_type": "execute_result"
    }
   ],
   "source": [
    "df['id'][df['highly_malignant'] ==1]"
   ]
  },
  {
   "cell_type": "code",
   "execution_count": null,
   "id": "8ccdd72b",
   "metadata": {
    "id": "8ccdd72b",
    "outputId": "389bba75-5dfd-418f-e8da-ac6de3a2c64f"
   },
   "outputs": [
    {
     "data": {
      "text/plain": [
       "6         0002bcb3da6cb337\n",
       "42        001810bf8c45bf5f\n",
       "43        00190820581d90ce\n",
       "51        001dc38a83d420cf\n",
       "55        0020e7119b96eeeb\n",
       "                ...       \n",
       "159411    fd2f53aafe8eefcc\n",
       "159493    fef142420a215b90\n",
       "159494    fef4cf7ba0012866\n",
       "159541    ffa33d3122b599d6\n",
       "159554    ffbdbb0483ed0841\n",
       "Name: id, Length: 8449, dtype: object"
      ]
     },
     "execution_count": 8,
     "metadata": {},
     "output_type": "execute_result"
    }
   ],
   "source": [
    "df['id'][df['rude'] ==1]"
   ]
  },
  {
   "cell_type": "code",
   "execution_count": null,
   "id": "6201a548",
   "metadata": {
    "id": "6201a548",
    "outputId": "b34259e6-3735-48cf-f286-560a6c932464"
   },
   "outputs": [
    {
     "data": {
      "text/plain": [
       "79        003217c3eb469ba9\n",
       "176       006b94add72ed61c\n",
       "600       0199d6af27b715f3\n",
       "802       02230885017a50c5\n",
       "1017      02c6e41e4b317ac3\n",
       "                ...       \n",
       "157718    e26b106943e02cbf\n",
       "158717    f264b7fb9a4b4f53\n",
       "158856    f4dca9e513e0366f\n",
       "159029    f780e4f42aa5a344\n",
       "159400    fd052883fa6a8697\n",
       "Name: id, Length: 478, dtype: object"
      ]
     },
     "execution_count": 9,
     "metadata": {},
     "output_type": "execute_result"
    }
   ],
   "source": [
    "df['id'][df['threat'] ==1]"
   ]
  },
  {
   "cell_type": "code",
   "execution_count": null,
   "id": "e6b5c105",
   "metadata": {
    "id": "e6b5c105",
    "outputId": "cb4567a4-1bc0-484f-a2fd-1190dff44c1e"
   },
   "outputs": [
    {
     "data": {
      "text/plain": [
       "6         0002bcb3da6cb337\n",
       "42        001810bf8c45bf5f\n",
       "43        00190820581d90ce\n",
       "55        0020e7119b96eeeb\n",
       "56        0020fd96ed3b8c8b\n",
       "                ...       \n",
       "159494    fef4cf7ba0012866\n",
       "159514    ff39a2895fc3b40e\n",
       "159541    ffa33d3122b599d6\n",
       "159546    ffb47123b2d82762\n",
       "159554    ffbdbb0483ed0841\n",
       "Name: id, Length: 7877, dtype: object"
      ]
     },
     "execution_count": 10,
     "metadata": {},
     "output_type": "execute_result"
    }
   ],
   "source": [
    "df['id'][df['abuse'] ==1]"
   ]
  },
  {
   "cell_type": "code",
   "execution_count": null,
   "id": "a3a44c5e",
   "metadata": {
    "id": "a3a44c5e",
    "outputId": "bc4e26f3-e2e7-4e65-ae0e-fd13129e16cc"
   },
   "outputs": [
    {
     "data": {
      "text/plain": [
       "42        001810bf8c45bf5f\n",
       "105       00472b8e2d38d1ea\n",
       "176       006b94add72ed61c\n",
       "218       008e0818dde894fb\n",
       "238       0097dd5c29bf7a15\n",
       "                ...       \n",
       "159281    fb726deec64157bd\n",
       "159336    fc3efa2f6f025f6d\n",
       "159400    fd052883fa6a8697\n",
       "159449    fdce660ddcd6d7ca\n",
       "159494    fef4cf7ba0012866\n",
       "Name: id, Length: 1405, dtype: object"
      ]
     },
     "execution_count": 11,
     "metadata": {},
     "output_type": "execute_result"
    }
   ],
   "source": [
    "df['id'][df['loathe'] ==1]"
   ]
  },
  {
   "cell_type": "markdown",
   "id": "99777b95",
   "metadata": {
    "id": "99777b95"
   },
   "source": [
    "#### These are the id which malignant comment are written. "
   ]
  },
  {
   "cell_type": "markdown",
   "id": "2db6fb21",
   "metadata": {
    "id": "2db6fb21"
   },
   "source": [
    "### Drop unwanted column"
   ]
  },
  {
   "cell_type": "code",
   "execution_count": 5,
   "id": "9bdd0b51",
   "metadata": {
    "colab": {
     "base_uri": "https://localhost:8080/",
     "height": 204
    },
    "id": "9bdd0b51",
    "outputId": "c58cf4b7-0745-4268-f8a4-761f491ec03d"
   },
   "outputs": [
    {
     "data": {
      "text/html": [
       "<div>\n",
       "<style scoped>\n",
       "    .dataframe tbody tr th:only-of-type {\n",
       "        vertical-align: middle;\n",
       "    }\n",
       "\n",
       "    .dataframe tbody tr th {\n",
       "        vertical-align: top;\n",
       "    }\n",
       "\n",
       "    .dataframe thead th {\n",
       "        text-align: right;\n",
       "    }\n",
       "</style>\n",
       "<table border=\"1\" class=\"dataframe\">\n",
       "  <thead>\n",
       "    <tr style=\"text-align: right;\">\n",
       "      <th></th>\n",
       "      <th>comment_text</th>\n",
       "      <th>malignant</th>\n",
       "    </tr>\n",
       "  </thead>\n",
       "  <tbody>\n",
       "    <tr>\n",
       "      <th>0</th>\n",
       "      <td>Explanation\\nWhy the edits made under my usern...</td>\n",
       "      <td>0</td>\n",
       "    </tr>\n",
       "    <tr>\n",
       "      <th>1</th>\n",
       "      <td>D'aww! He matches this background colour I'm s...</td>\n",
       "      <td>0</td>\n",
       "    </tr>\n",
       "    <tr>\n",
       "      <th>2</th>\n",
       "      <td>Hey man, I'm really not trying to edit war. It...</td>\n",
       "      <td>0</td>\n",
       "    </tr>\n",
       "    <tr>\n",
       "      <th>3</th>\n",
       "      <td>\"\\nMore\\nI can't make any real suggestions on ...</td>\n",
       "      <td>0</td>\n",
       "    </tr>\n",
       "    <tr>\n",
       "      <th>4</th>\n",
       "      <td>You, sir, are my hero. Any chance you remember...</td>\n",
       "      <td>0</td>\n",
       "    </tr>\n",
       "  </tbody>\n",
       "</table>\n",
       "</div>"
      ],
      "text/plain": [
       "                                        comment_text  malignant\n",
       "0  Explanation\\nWhy the edits made under my usern...          0\n",
       "1  D'aww! He matches this background colour I'm s...          0\n",
       "2  Hey man, I'm really not trying to edit war. It...          0\n",
       "3  \"\\nMore\\nI can't make any real suggestions on ...          0\n",
       "4  You, sir, are my hero. Any chance you remember...          0"
      ]
     },
     "execution_count": 5,
     "metadata": {},
     "output_type": "execute_result"
    }
   ],
   "source": [
    "col = ['id','highly_malignant','rude','threat','abuse','loathe']\n",
    "df = df.drop(columns=col,axis=1)\n",
    "df.head()"
   ]
  },
  {
   "cell_type": "markdown",
   "id": "29dd8e67",
   "metadata": {
    "id": "29dd8e67"
   },
   "source": [
    "### Calculating total count of each category comments"
   ]
  },
  {
   "cell_type": "code",
   "execution_count": null,
   "id": "bfb8621e",
   "metadata": {
    "id": "bfb8621e",
    "outputId": "5493c605-8c67-406c-e9d6-9c9be0b4a316"
   },
   "outputs": [
    {
     "data": {
      "text/html": [
       "<div>\n",
       "<style scoped>\n",
       "    .dataframe tbody tr th:only-of-type {\n",
       "        vertical-align: middle;\n",
       "    }\n",
       "\n",
       "    .dataframe tbody tr th {\n",
       "        vertical-align: top;\n",
       "    }\n",
       "\n",
       "    .dataframe thead th {\n",
       "        text-align: right;\n",
       "    }\n",
       "</style>\n",
       "<table border=\"1\" class=\"dataframe\">\n",
       "  <thead>\n",
       "    <tr style=\"text-align: right;\">\n",
       "      <th></th>\n",
       "      <th>Category</th>\n",
       "      <th>Count</th>\n",
       "    </tr>\n",
       "  </thead>\n",
       "  <tbody>\n",
       "    <tr>\n",
       "      <th>0</th>\n",
       "      <td>malignant</td>\n",
       "      <td>15294</td>\n",
       "    </tr>\n",
       "    <tr>\n",
       "      <th>1</th>\n",
       "      <td>highly_malignant</td>\n",
       "      <td>1595</td>\n",
       "    </tr>\n",
       "    <tr>\n",
       "      <th>2</th>\n",
       "      <td>rude</td>\n",
       "      <td>8449</td>\n",
       "    </tr>\n",
       "    <tr>\n",
       "      <th>3</th>\n",
       "      <td>threat</td>\n",
       "      <td>478</td>\n",
       "    </tr>\n",
       "    <tr>\n",
       "      <th>4</th>\n",
       "      <td>abuse</td>\n",
       "      <td>7877</td>\n",
       "    </tr>\n",
       "    <tr>\n",
       "      <th>5</th>\n",
       "      <td>loathe</td>\n",
       "      <td>1405</td>\n",
       "    </tr>\n",
       "  </tbody>\n",
       "</table>\n",
       "</div>"
      ],
      "text/plain": [
       "           Category  Count\n",
       "0         malignant  15294\n",
       "1  highly_malignant   1595\n",
       "2              rude   8449\n",
       "3            threat    478\n",
       "4             abuse   7877\n",
       "5            loathe   1405"
      ]
     },
     "execution_count": 4,
     "metadata": {},
     "output_type": "execute_result"
    }
   ],
   "source": [
    "counts = []\n",
    "categories = list(df.columns.values)\n",
    "for i in categories:\n",
    "    counts.append((i, df[i].sum()))\n",
    "df_stats = pd.DataFrame(counts, columns=['Category', 'Count'])\n",
    "df_stats"
   ]
  },
  {
   "cell_type": "code",
   "execution_count": null,
   "id": "8ae8e51d",
   "metadata": {
    "id": "8ae8e51d",
    "outputId": "8f3eba51-11bf-486f-ce7d-e86d02e12c3b"
   },
   "outputs": [
    {
     "data": {
      "image/png": "[encoded data removed]",
      "text/plain": [
       "<Figure size 432x288 with 1 Axes>"
      ]
     },
     "metadata": {},
     "output_type": "display_data"
    }
   ],
   "source": [
    "sns.set(style=\"whitegrid\")\n",
    "sns.barplot(x='Category', y='Count', data=df_stats, palette=\"summer\",)\n",
    "plt.title(\"Number Of Comments For Each Tag\")\n",
    "plt.show()"
   ]
  },
  {
   "cell_type": "markdown",
   "id": "8a3d64e4",
   "metadata": {
    "id": "8a3d64e4"
   },
   "source": [
    "#### This shows that the number of malignant comments is high"
   ]
  },
  {
   "cell_type": "markdown",
   "id": "86b501d6",
   "metadata": {
    "id": "86b501d6"
   },
   "source": [
    "### Corelation of Feature vs Label using Heat map"
   ]
  },
  {
   "cell_type": "code",
   "execution_count": null,
   "id": "9674f786",
   "metadata": {
    "id": "9674f786",
    "outputId": "dba6f6b6-e5f5-45bf-adec-c8d732b6ff74"
   },
   "outputs": [
    {
     "data": {
      "text/html": [
       "<style  type=\"text/css\" >\n",
       "#T_a6da4_row0_col0,#T_a6da4_row0_col1,#T_a6da4_row0_col2,#T_a6da4_row0_col3,#T_a6da4_row0_col4,#T_a6da4_row0_col5,#T_a6da4_row1_col0,#T_a6da4_row1_col1,#T_a6da4_row1_col2,#T_a6da4_row1_col3,#T_a6da4_row1_col4,#T_a6da4_row1_col5,#T_a6da4_row2_col0,#T_a6da4_row2_col1,#T_a6da4_row2_col2,#T_a6da4_row2_col3,#T_a6da4_row2_col4,#T_a6da4_row2_col5,#T_a6da4_row3_col0,#T_a6da4_row3_col1,#T_a6da4_row3_col2,#T_a6da4_row3_col3,#T_a6da4_row3_col4,#T_a6da4_row3_col5,#T_a6da4_row4_col0,#T_a6da4_row4_col1,#T_a6da4_row4_col2,#T_a6da4_row4_col3,#T_a6da4_row4_col4,#T_a6da4_row4_col5,#T_a6da4_row5_col0,#T_a6da4_row5_col1,#T_a6da4_row5_col2,#T_a6da4_row5_col3,#T_a6da4_row5_col4,#T_a6da4_row5_col5{\n",
       "            color:  None;\n",
       "        }</style><table id=\"T_a6da4_\" ><thead>    <tr>        <th class=\"blank level0\" ></th>        <th class=\"col_heading level0 col0\" >malignant</th>        <th class=\"col_heading level0 col1\" >highly_malignant</th>        <th class=\"col_heading level0 col2\" >rude</th>        <th class=\"col_heading level0 col3\" >threat</th>        <th class=\"col_heading level0 col4\" >abuse</th>        <th class=\"col_heading level0 col5\" >loathe</th>    </tr></thead><tbody>\n",
       "                <tr>\n",
       "                        <th id=\"T_a6da4_level0_row0\" class=\"row_heading level0 row0\" >malignant</th>\n",
       "                        <td id=\"T_a6da4_row0_col0\" class=\"data row0 col0\" >1.00</td>\n",
       "                        <td id=\"T_a6da4_row0_col1\" class=\"data row0 col1\" >0.31</td>\n",
       "                        <td id=\"T_a6da4_row0_col2\" class=\"data row0 col2\" >0.68</td>\n",
       "                        <td id=\"T_a6da4_row0_col3\" class=\"data row0 col3\" >0.16</td>\n",
       "                        <td id=\"T_a6da4_row0_col4\" class=\"data row0 col4\" >0.65</td>\n",
       "                        <td id=\"T_a6da4_row0_col5\" class=\"data row0 col5\" >0.27</td>\n",
       "            </tr>\n",
       "            <tr>\n",
       "                        <th id=\"T_a6da4_level0_row1\" class=\"row_heading level0 row1\" >highly_malignant</th>\n",
       "                        <td id=\"T_a6da4_row1_col0\" class=\"data row1 col0\" >0.31</td>\n",
       "                        <td id=\"T_a6da4_row1_col1\" class=\"data row1 col1\" >1.00</td>\n",
       "                        <td id=\"T_a6da4_row1_col2\" class=\"data row1 col2\" >0.40</td>\n",
       "                        <td id=\"T_a6da4_row1_col3\" class=\"data row1 col3\" >0.12</td>\n",
       "                        <td id=\"T_a6da4_row1_col4\" class=\"data row1 col4\" >0.38</td>\n",
       "                        <td id=\"T_a6da4_row1_col5\" class=\"data row1 col5\" >0.20</td>\n",
       "            </tr>\n",
       "            <tr>\n",
       "                        <th id=\"T_a6da4_level0_row2\" class=\"row_heading level0 row2\" >rude</th>\n",
       "                        <td id=\"T_a6da4_row2_col0\" class=\"data row2 col0\" >0.68</td>\n",
       "                        <td id=\"T_a6da4_row2_col1\" class=\"data row2 col1\" >0.40</td>\n",
       "                        <td id=\"T_a6da4_row2_col2\" class=\"data row2 col2\" >1.00</td>\n",
       "                        <td id=\"T_a6da4_row2_col3\" class=\"data row2 col3\" >0.14</td>\n",
       "                        <td id=\"T_a6da4_row2_col4\" class=\"data row2 col4\" >0.74</td>\n",
       "                        <td id=\"T_a6da4_row2_col5\" class=\"data row2 col5\" >0.29</td>\n",
       "            </tr>\n",
       "            <tr>\n",
       "                        <th id=\"T_a6da4_level0_row3\" class=\"row_heading level0 row3\" >threat</th>\n",
       "                        <td id=\"T_a6da4_row3_col0\" class=\"data row3 col0\" >0.16</td>\n",
       "                        <td id=\"T_a6da4_row3_col1\" class=\"data row3 col1\" >0.12</td>\n",
       "                        <td id=\"T_a6da4_row3_col2\" class=\"data row3 col2\" >0.14</td>\n",
       "                        <td id=\"T_a6da4_row3_col3\" class=\"data row3 col3\" >1.00</td>\n",
       "                        <td id=\"T_a6da4_row3_col4\" class=\"data row3 col4\" >0.15</td>\n",
       "                        <td id=\"T_a6da4_row3_col5\" class=\"data row3 col5\" >0.12</td>\n",
       "            </tr>\n",
       "            <tr>\n",
       "                        <th id=\"T_a6da4_level0_row4\" class=\"row_heading level0 row4\" >abuse</th>\n",
       "                        <td id=\"T_a6da4_row4_col0\" class=\"data row4 col0\" >0.65</td>\n",
       "                        <td id=\"T_a6da4_row4_col1\" class=\"data row4 col1\" >0.38</td>\n",
       "                        <td id=\"T_a6da4_row4_col2\" class=\"data row4 col2\" >0.74</td>\n",
       "                        <td id=\"T_a6da4_row4_col3\" class=\"data row4 col3\" >0.15</td>\n",
       "                        <td id=\"T_a6da4_row4_col4\" class=\"data row4 col4\" >1.00</td>\n",
       "                        <td id=\"T_a6da4_row4_col5\" class=\"data row4 col5\" >0.34</td>\n",
       "            </tr>\n",
       "            <tr>\n",
       "                        <th id=\"T_a6da4_level0_row5\" class=\"row_heading level0 row5\" >loathe</th>\n",
       "                        <td id=\"T_a6da4_row5_col0\" class=\"data row5 col0\" >0.27</td>\n",
       "                        <td id=\"T_a6da4_row5_col1\" class=\"data row5 col1\" >0.20</td>\n",
       "                        <td id=\"T_a6da4_row5_col2\" class=\"data row5 col2\" >0.29</td>\n",
       "                        <td id=\"T_a6da4_row5_col3\" class=\"data row5 col3\" >0.12</td>\n",
       "                        <td id=\"T_a6da4_row5_col4\" class=\"data row5 col4\" >0.34</td>\n",
       "                        <td id=\"T_a6da4_row5_col5\" class=\"data row5 col5\" >1.00</td>\n",
       "            </tr>\n",
       "    </tbody></table>"
      ],
      "text/plain": [
       "<pandas.io.formats.style.Styler at 0x21ac00c0610>"
      ]
     },
     "execution_count": 17,
     "metadata": {},
     "output_type": "execute_result"
    }
   ],
   "source": [
    "kl.corr_mat(df) # returns a color-encoded correlation matrix"
   ]
  },
  {
   "cell_type": "code",
   "execution_count": null,
   "id": "ce23e4a1",
   "metadata": {
    "id": "ce23e4a1",
    "outputId": "39bc55e9-1717-4062-d3b5-72918c44f320"
   },
   "outputs": [
    {
     "name": "stdout",
     "output_type": "stream",
     "text": [
      "-----------\n",
      "Heat Map :-\n",
      "-----------\n"
     ]
    },
    {
     "data": {
      "image/png": "[encoded data removed]",
      "text/plain": [
       "<Figure size 1584x1152 with 2 Axes>"
      ]
     },
     "metadata": {},
     "output_type": "display_data"
    }
   ],
   "source": [
    "print('-----------')\n",
    "print('Heat Map :-')\n",
    "print('-----------')\n",
    "kl.corr_plot(df, figsize = (22, 16)) # returns a color-encoded heatmap, ideal for correlations\n",
    "plt.tight_layout()"
   ]
  },
  {
   "cell_type": "markdown",
   "id": "5c4cd451",
   "metadata": {
    "id": "5c4cd451"
   },
   "source": [
    "#### Rude column is highly related to label"
   ]
  },
  {
   "cell_type": "markdown",
   "id": "a8c9abaf",
   "metadata": {
    "id": "a8c9abaf"
   },
   "source": [
    "### Data Cleaning"
   ]
  },
  {
   "cell_type": "code",
   "execution_count": 6,
   "id": "6Q8x6P_Yeco6",
   "metadata": {
    "id": "6Q8x6P_Yeco6"
   },
   "outputs": [],
   "source": [
    "import sys\n",
    "sys.setrecursionlimit(5000)"
   ]
  },
  {
   "cell_type": "code",
   "execution_count": 9,
   "id": "10e7e1f9",
   "metadata": {
    "id": "10e7e1f9"
   },
   "outputs": [],
   "source": [
    "ps = PorterStemmer()\n",
    "corpus = []\n",
    "for i in range(0, len(df)):\n",
    "    comment = re.sub('[^a-zA-Z]',' ', df['comment_text'][i])\n",
    "    comment = comment.lower()\n",
    "    comment = comment.split()\n",
    "    \n",
    "    comment = [ps.stem(word) for word in comment if word not in stopwords.words('english')]\n",
    "    comment = ' '. join(comment)\n",
    "    corpus.append(comment)"
   ]
  },
  {
   "cell_type": "code",
   "execution_count": 7,
   "id": "nPiKHE-hC99I",
   "metadata": {
    "colab": {
     "base_uri": "https://localhost:8080/"
    },
    "id": "nPiKHE-hC99I",
    "outputId": "78321925-dc74-4403-c1ad-eed579bf69a1"
   },
   "outputs": [
    {
     "name": "stdout",
     "output_type": "stream",
     "text": [
      "[nltk_data] Downloading package stopwords to /root/nltk_data...\n",
      "[nltk_data]   Package stopwords is already up-to-date!\n"
     ]
    },
    {
     "data": {
      "text/plain": [
       "True"
      ]
     },
     "execution_count": 7,
     "metadata": {},
     "output_type": "execute_result"
    }
   ],
   "source": [
    "nltk.download('stopwords')"
   ]
  },
  {
   "cell_type": "markdown",
   "id": "FnOeQ-vek7TQ",
   "metadata": {
    "id": "FnOeQ-vek7TQ"
   },
   "source": [
    "### Creating Bag of Words"
   ]
  },
  {
   "cell_type": "code",
   "execution_count": 10,
   "id": "cZN-FjQ9lBZc",
   "metadata": {
    "id": "cZN-FjQ9lBZc"
   },
   "outputs": [],
   "source": [
    "cv = CountVectorizer(max_features = 5000)\n",
    "x = cv.fit_transform(corpus).toarray()[:5000]"
   ]
  },
  {
   "cell_type": "code",
   "execution_count": 11,
   "id": "1zh421pluwHm",
   "metadata": {
    "colab": {
     "base_uri": "https://localhost:8080/"
    },
    "id": "1zh421pluwHm",
    "outputId": "e7a1d187-f2cf-4fb5-a947-1f69bdfa13e0"
   },
   "outputs": [
    {
     "data": {
      "text/plain": [
       "array([[0, 0, 0, ..., 0, 0, 0],\n",
       "       [0, 0, 0, ..., 0, 0, 0],\n",
       "       [0, 0, 0, ..., 0, 0, 0],\n",
       "       ...,\n",
       "       [0, 0, 0, ..., 0, 0, 0],\n",
       "       [0, 0, 0, ..., 0, 0, 0],\n",
       "       [0, 0, 0, ..., 0, 0, 0]])"
      ]
     },
     "execution_count": 11,
     "metadata": {},
     "output_type": "execute_result"
    }
   ],
   "source": [
    "x"
   ]
  },
  {
   "cell_type": "markdown",
   "id": "612e539f",
   "metadata": {
    "id": "612e539f"
   },
   "source": [
    "### Spliting Dataset into features and label"
   ]
  },
  {
   "cell_type": "code",
   "execution_count": 16,
   "id": "aa8ace40",
   "metadata": {
    "colab": {
     "base_uri": "https://localhost:8080/"
    },
    "id": "aa8ace40",
    "outputId": "b0b8ac08-9a1f-4605-a581-9285a230d530"
   },
   "outputs": [
    {
     "name": "stdout",
     "output_type": "stream",
     "text": [
      "Data has been splited\n"
     ]
    }
   ],
   "source": [
    "y = df['malignant'][:5000]\n",
    "print('Data has been splited')"
   ]
  },
  {
   "cell_type": "markdown",
   "id": "b8620c97",
   "metadata": {
    "id": "b8620c97"
   },
   "source": [
    "### Checking Classs Imblance"
   ]
  },
  {
   "cell_type": "code",
   "execution_count": 17,
   "id": "54545af6",
   "metadata": {
    "colab": {
     "base_uri": "https://localhost:8080/"
    },
    "id": "54545af6",
    "outputId": "97525e16-94b4-4e0c-eb1a-634c25726771"
   },
   "outputs": [
    {
     "data": {
      "text/plain": [
       "0    4497\n",
       "1     503\n",
       "Name: malignant, dtype: int64"
      ]
     },
     "execution_count": 17,
     "metadata": {},
     "output_type": "execute_result"
    }
   ],
   "source": [
    "y.value_counts()"
   ]
  },
  {
   "cell_type": "markdown",
   "id": "2cad3727",
   "metadata": {
    "id": "2cad3727"
   },
   "source": [
    "#### Class are not balance"
   ]
  },
  {
   "cell_type": "markdown",
   "id": "819bf12b",
   "metadata": {
    "id": "819bf12b"
   },
   "source": [
    "### Handling Class Imbalance"
   ]
  },
  {
   "cell_type": "code",
   "execution_count": 18,
   "id": "a9a3fa89",
   "metadata": {
    "colab": {
     "base_uri": "https://localhost:8080/"
    },
    "id": "a9a3fa89",
    "outputId": "9c07dbe9-34a0-4c12-d082-fa6fc9f437e9"
   },
   "outputs": [
    {
     "name": "stdout",
     "output_type": "stream",
     "text": [
      "---------------------\n",
      "Class are balanced :-\n",
      "---------------------\n",
      "1    4497\n",
      "0    4497\n",
      "Name: malignant, dtype: int64\n",
      "---------------------\n"
     ]
    }
   ],
   "source": [
    "SM = SMOTE()\n",
    "x_over, y_over = SM.fit_resample(x,y)\n",
    "print('---------------------')\n",
    "print('Class are balanced :-')\n",
    "print('---------------------')\n",
    "print(y_over.value_counts())\n",
    "print('---------------------')"
   ]
  },
  {
   "cell_type": "markdown",
   "id": "3d1589ac",
   "metadata": {
    "id": "3d1589ac"
   },
   "source": [
    "### Data Scaling"
   ]
  },
  {
   "cell_type": "code",
   "execution_count": 19,
   "id": "0b650ad9",
   "metadata": {
    "colab": {
     "base_uri": "https://localhost:8080/"
    },
    "id": "0b650ad9",
    "outputId": "8410e163-da24-4f71-b643-2b5d1d1ccbc9"
   },
   "outputs": [
    {
     "data": {
      "text/plain": [
       "array([[-0.02829559, -0.02804755, -0.020004  , ..., -0.04652608,\n",
       "        -0.03679443, -0.03466182],\n",
       "       [-0.02829559, -0.02804755, -0.020004  , ..., -0.04652608,\n",
       "        -0.03679443, -0.03466182],\n",
       "       [-0.02829559, -0.02804755, -0.020004  , ..., -0.04652608,\n",
       "        -0.03679443, -0.03466182],\n",
       "       ...,\n",
       "       [-0.02829559, -0.02804755, -0.020004  , ..., -0.04652608,\n",
       "        -0.03679443, -0.03466182],\n",
       "       [-0.02829559, -0.02804755, -0.020004  , ..., -0.04652608,\n",
       "        -0.03679443, -0.03466182],\n",
       "       [-0.02829559, -0.02804755, -0.020004  , ..., -0.04652608,\n",
       "        -0.03679443, -0.03466182]])"
      ]
     },
     "execution_count": 19,
     "metadata": {},
     "output_type": "execute_result"
    }
   ],
   "source": [
    "scaler = StandardScaler()\n",
    "x_scaled = scaler.fit_transform(x)\n",
    "x_scaled"
   ]
  },
  {
   "cell_type": "markdown",
   "id": "c81b04e4",
   "metadata": {
    "id": "c81b04e4"
   },
   "source": [
    "#### Data has been scaled"
   ]
  },
  {
   "cell_type": "markdown",
   "id": "bfa94f11",
   "metadata": {
    "id": "bfa94f11"
   },
   "source": [
    "### Split data into train and test. Model will be bulit on training data and tested on test data"
   ]
  },
  {
   "cell_type": "code",
   "execution_count": 20,
   "id": "83334ee5",
   "metadata": {
    "colab": {
     "base_uri": "https://localhost:8080/"
    },
    "id": "83334ee5",
    "outputId": "4cc3437c-5a74-45ed-91f1-9aa0b4188b15"
   },
   "outputs": [
    {
     "name": "stdout",
     "output_type": "stream",
     "text": [
      "Data has been splited.\n"
     ]
    }
   ],
   "source": [
    "x_train, x_test, y_train, y_test = train_test_split(x_over, y_over, test_size = 0.25, random_state = 355)\n",
    "print('Data has been splited.')"
   ]
  },
  {
   "cell_type": "markdown",
   "id": "8396fa51",
   "metadata": {
    "id": "8396fa51"
   },
   "source": [
    "## Model Bulding"
   ]
  },
  {
   "cell_type": "markdown",
   "id": "4dbe2fe6",
   "metadata": {
    "id": "4dbe2fe6"
   },
   "source": [
    "### Naive Baye model instantiaing, training and evaluating"
   ]
  },
  {
   "cell_type": "code",
   "execution_count": 25,
   "id": "bce3ecac",
   "metadata": {
    "id": "bce3ecac"
   },
   "outputs": [],
   "source": [
    "nb = MultinomialNB().fit(x_train, y_train)\n",
    "y_pred = nb.predict(x_test)"
   ]
  },
  {
   "cell_type": "code",
   "execution_count": 26,
   "id": "7571ae94",
   "metadata": {
    "colab": {
     "base_uri": "https://localhost:8080/"
    },
    "id": "7571ae94",
    "outputId": "59ac2a91-0db2-4d55-8a8b-e144fd2bd4a6"
   },
   "outputs": [
    {
     "name": "stdout",
     "output_type": "stream",
     "text": [
      "-----------------------------------------------------------\n",
      "\n",
      "Confusion Matrix :\n",
      "[[1062   28]\n",
      " [ 482  677]]\n",
      "\n",
      "----------------------------------------------------------\n",
      "\n",
      "Classification Report:\n",
      "              precision    recall  f1-score   support\n",
      "\n",
      "           0       0.69      0.97      0.81      1090\n",
      "           1       0.96      0.58      0.73      1159\n",
      "\n",
      "    accuracy                           0.77      2249\n",
      "   macro avg       0.82      0.78      0.77      2249\n",
      "weighted avg       0.83      0.77      0.77      2249\n",
      "\n",
      "------------------------------------------------------------\n"
     ]
    }
   ],
   "source": [
    "print('-----------------------------------------------------------\\n')\n",
    "print('Confusion Matrix :')\n",
    "print( confusion_matrix(y_test, y_pred))\n",
    "print('\\n----------------------------------------------------------')\n",
    "print('\\nClassification Report:')\n",
    "print(classification_report(y_test, y_pred, digits = 2))\n",
    "print('------------------------------------------------------------')"
   ]
  },
  {
   "cell_type": "code",
   "execution_count": 27,
   "id": "e0a179ba",
   "metadata": {
    "colab": {
     "base_uri": "https://localhost:8080/",
     "height": 295
    },
    "id": "e0a179ba",
    "outputId": "eb362131-8a42-4957-f6be-b1327de5e433"
   },
   "outputs": [
    {
     "data": {
      "image/png": "[encoded data removed]",
      "text/plain": [
       "<Figure size 432x288 with 2 Axes>"
      ]
     },
     "metadata": {
      "needs_background": "light"
     },
     "output_type": "display_data"
    }
   ],
   "source": [
    "# plot confusion matrix heatmap\n",
    "\n",
    "conf_mat = confusion_matrix(y_test,y_pred)\n",
    "\n",
    "ax=plt.subplot()\n",
    "\n",
    "sns.heatmap(conf_mat,annot=True,ax=ax,linewidths=5,linecolor='r',center=0)\n",
    "\n",
    "ax.set_xlabel('Predicted Labels');ax.set_ylabel('True Labels')\n",
    "\n",
    "ax.set_title('Confusion matrix')\n",
    "plt.show()"
   ]
  },
  {
   "cell_type": "markdown",
   "id": "4d78eb7b",
   "metadata": {
    "id": "4d78eb7b"
   },
   "source": [
    "#### Conclusion : Naive Baye model has 77% score"
   ]
  },
  {
   "cell_type": "markdown",
   "id": "c7e7d8bb",
   "metadata": {
    "id": "c7e7d8bb"
   },
   "source": [
    "### Cross Validation score to check if the model is overfitting"
   ]
  },
  {
   "cell_type": "code",
   "execution_count": 28,
   "id": "e492b8cb",
   "metadata": {
    "colab": {
     "base_uri": "https://localhost:8080/"
    },
    "id": "e492b8cb",
    "outputId": "9a078200-1f26-405c-d604-eeb3c7c4a258"
   },
   "outputs": [
    {
     "name": "stdout",
     "output_type": "stream",
     "text": [
      "Cross Validation score of Naive Baye model ---> 0.9380000000000001\n"
     ]
    }
   ],
   "source": [
    "cv = cross_val_score(nb, x, y, cv = 5)\n",
    "print('Cross Validation score of Naive Baye model --->', cv.mean())"
   ]
  },
  {
   "cell_type": "markdown",
   "id": "641db927",
   "metadata": {
    "id": "641db927"
   },
   "source": [
    "#### Conclusion : Naive Baye model has 93% Cross Validation score"
   ]
  },
  {
   "cell_type": "markdown",
   "id": "6c7212bd",
   "metadata": {
    "id": "6c7212bd"
   },
   "source": [
    "### Naive Baye Hyperparameter Tuning"
   ]
  },
  {
   "cell_type": "code",
   "execution_count": 30,
   "id": "122a351e",
   "metadata": {
    "id": "122a351e"
   },
   "outputs": [],
   "source": [
    "grid_param = {'alpha':[0.05,0.1,0.2,0.3,1],'fit_prior':['True','False']}"
   ]
  },
  {
   "cell_type": "code",
   "execution_count": 31,
   "id": "65ec9e0e",
   "metadata": {
    "id": "65ec9e0e"
   },
   "outputs": [],
   "source": [
    "grid_search = GridSearchCV(estimator = nb, param_grid = grid_param, cv = 3 , n_jobs = -1)"
   ]
  },
  {
   "cell_type": "code",
   "execution_count": 32,
   "id": "5694c6d9",
   "metadata": {
    "colab": {
     "base_uri": "https://localhost:8080/"
    },
    "id": "5694c6d9",
    "outputId": "7a874143-d3f4-43b0-e372-228ca8670c5d"
   },
   "outputs": [
    {
     "data": {
      "text/plain": [
       "GridSearchCV(cv=3, estimator=MultinomialNB(), n_jobs=-1,\n",
       "             param_grid={'alpha': [0.05, 0.1, 0.2, 0.3, 1],\n",
       "                         'fit_prior': ['True', 'False']})"
      ]
     },
     "execution_count": 32,
     "metadata": {},
     "output_type": "execute_result"
    }
   ],
   "source": [
    "grid_search.fit(x_train, y_train)"
   ]
  },
  {
   "cell_type": "code",
   "execution_count": 33,
   "id": "9be7faa7",
   "metadata": {
    "colab": {
     "base_uri": "https://localhost:8080/"
    },
    "id": "9be7faa7",
    "outputId": "3e575d96-d125-45ef-bafa-623f3856e89d"
   },
   "outputs": [
    {
     "name": "stdout",
     "output_type": "stream",
     "text": [
      "{'alpha': 0.2, 'fit_prior': 'True'}\n"
     ]
    }
   ],
   "source": [
    "best_parameters = grid_search.best_params_\n",
    "print(best_parameters)"
   ]
  },
  {
   "cell_type": "code",
   "execution_count": 34,
   "id": "ac2c3cfa",
   "metadata": {
    "colab": {
     "base_uri": "https://localhost:8080/"
    },
    "id": "ac2c3cfa",
    "outputId": "0f588797-ac3c-4d47-92c7-725e4d5436e0"
   },
   "outputs": [
    {
     "data": {
      "text/plain": [
       "0.7785682525566918"
      ]
     },
     "execution_count": 34,
     "metadata": {},
     "output_type": "execute_result"
    }
   ],
   "source": [
    "hnb = MultinomialNB(alpha = 0.2, fit_prior = True)\n",
    "hnb.fit(x_train, y_train)\n",
    "hnb.score(x_test, y_test)"
   ]
  },
  {
   "cell_type": "code",
   "execution_count": 35,
   "id": "5d71ae33",
   "metadata": {
    "colab": {
     "base_uri": "https://localhost:8080/"
    },
    "id": "5d71ae33",
    "outputId": "ab3aec05-8ef2-4603-f770-e16328edd55b"
   },
   "outputs": [
    {
     "name": "stdout",
     "output_type": "stream",
     "text": [
      "-----------------------------------------------------------\n",
      "\n",
      "Confusion Matrix :\n",
      "[[1062   28]\n",
      " [ 482  677]]\n",
      "\n",
      "----------------------------------------------------------\n",
      "\n",
      "Classification Report:\n",
      "              precision    recall  f1-score   support\n",
      "\n",
      "           0       0.69      0.97      0.81      1090\n",
      "           1       0.96      0.58      0.73      1159\n",
      "\n",
      "    accuracy                           0.77      2249\n",
      "   macro avg       0.82      0.78      0.77      2249\n",
      "weighted avg       0.83      0.77      0.77      2249\n",
      "\n",
      "------------------------------------------------------------\n"
     ]
    }
   ],
   "source": [
    "print('-----------------------------------------------------------\\n')\n",
    "print('Confusion Matrix :')\n",
    "print( confusion_matrix(y_test, y_pred))\n",
    "print('\\n----------------------------------------------------------')\n",
    "print('\\nClassification Report:')\n",
    "print(classification_report(y_test, y_pred, digits = 2))\n",
    "print('------------------------------------------------------------')"
   ]
  },
  {
   "cell_type": "markdown",
   "id": "edf1272c",
   "metadata": {
    "id": "edf1272c"
   },
   "source": [
    "#### After Hyperparameter Tuning model accuracy score 77%."
   ]
  },
  {
   "cell_type": "markdown",
   "id": "4785109d",
   "metadata": {
    "id": "4785109d"
   },
   "source": [
    "### Saving The Model"
   ]
  },
  {
   "cell_type": "code",
   "execution_count": 36,
   "id": "dbf57539",
   "metadata": {
    "id": "dbf57539"
   },
   "outputs": [],
   "source": [
    "# saving the model to the Local file system\n",
    "filename = 'MALIGNANT.pickle'\n",
    "pickle.dump(hnb, open(filename, 'wb'))"
   ]
  },
  {
   "cell_type": "markdown",
   "id": "fb0ee3a0",
   "metadata": {
    "id": "fb0ee3a0"
   },
   "source": [
    "### Reading Test Data"
   ]
  },
  {
   "cell_type": "code",
   "execution_count": 4,
   "id": "45254302",
   "metadata": {
    "colab": {
     "base_uri": "https://localhost:8080/",
     "height": 204
    },
    "id": "45254302",
    "outputId": "1bf3b627-6ec6-40f8-c0b2-e2f00d2ff07d",
    "scrolled": true
   },
   "outputs": [
    {
     "data": {
      "text/html": [
       "<div>\n",
       "<style scoped>\n",
       "    .dataframe tbody tr th:only-of-type {\n",
       "        vertical-align: middle;\n",
       "    }\n",
       "\n",
       "    .dataframe tbody tr th {\n",
       "        vertical-align: top;\n",
       "    }\n",
       "\n",
       "    .dataframe thead th {\n",
       "        text-align: right;\n",
       "    }\n",
       "</style>\n",
       "<table border=\"1\" class=\"dataframe\">\n",
       "  <thead>\n",
       "    <tr style=\"text-align: right;\">\n",
       "      <th></th>\n",
       "      <th>id</th>\n",
       "      <th>comment_text</th>\n",
       "    </tr>\n",
       "  </thead>\n",
       "  <tbody>\n",
       "    <tr>\n",
       "      <th>0</th>\n",
       "      <td>00001cee341fdb12</td>\n",
       "      <td>Yo bitch Ja Rule is more succesful then you'll...</td>\n",
       "    </tr>\n",
       "    <tr>\n",
       "      <th>1</th>\n",
       "      <td>0000247867823ef7</td>\n",
       "      <td>== From RfC == \\n\\n The title is fine as it is...</td>\n",
       "    </tr>\n",
       "    <tr>\n",
       "      <th>2</th>\n",
       "      <td>00013b17ad220c46</td>\n",
       "      <td>\" \\n\\n == Sources == \\n\\n * Zawe Ashton on Lap...</td>\n",
       "    </tr>\n",
       "    <tr>\n",
       "      <th>3</th>\n",
       "      <td>00017563c3f7919a</td>\n",
       "      <td>:If you have a look back at the source, the in...</td>\n",
       "    </tr>\n",
       "    <tr>\n",
       "      <th>4</th>\n",
       "      <td>00017695ad8997eb</td>\n",
       "      <td>I don't anonymously edit articles at all.</td>\n",
       "    </tr>\n",
       "  </tbody>\n",
       "</table>\n",
       "</div>"
      ],
      "text/plain": [
       "                 id                                       comment_text\n",
       "0  00001cee341fdb12  Yo bitch Ja Rule is more succesful then you'll...\n",
       "1  0000247867823ef7  == From RfC == \\n\\n The title is fine as it is...\n",
       "2  00013b17ad220c46  \" \\n\\n == Sources == \\n\\n * Zawe Ashton on Lap...\n",
       "3  00017563c3f7919a  :If you have a look back at the source, the in...\n",
       "4  00017695ad8997eb          I don't anonymously edit articles at all."
      ]
     },
     "execution_count": 4,
     "metadata": {},
     "output_type": "execute_result"
    }
   ],
   "source": [
    "df2 = pd.read_csv(\"/content/sample_data/test.csv\")\n",
    "df2.head()"
   ]
  },
  {
   "cell_type": "markdown",
   "id": "0cceedb3",
   "metadata": {
    "id": "0cceedb3"
   },
   "source": [
    "### Check no of row and column"
   ]
  },
  {
   "cell_type": "code",
   "execution_count": null,
   "id": "15fbc4e1",
   "metadata": {
    "id": "15fbc4e1",
    "outputId": "fbaf5bf2-55af-46be-f53e-1e9c71113243"
   },
   "outputs": [
    {
     "name": "stdout",
     "output_type": "stream",
     "text": [
      "No of Rows and columns ---------> (153164, 2)\n"
     ]
    }
   ],
   "source": [
    "print('No of Rows and columns --------->', df2.shape)"
   ]
  },
  {
   "cell_type": "markdown",
   "id": "37bacf85",
   "metadata": {
    "id": "37bacf85"
   },
   "source": [
    "### Checking for Null values"
   ]
  },
  {
   "cell_type": "code",
   "execution_count": null,
   "id": "5d28f088",
   "metadata": {
    "id": "5d28f088",
    "outputId": "5680fabd-b6e7-4faa-a670-1e003bf1d8db"
   },
   "outputs": [
    {
     "name": "stdout",
     "output_type": "stream",
     "text": [
      "================================\n",
      "\n",
      "malignant           0\n",
      "highly_malignant    0\n",
      "rude                0\n",
      "threat              0\n",
      "abuse               0\n",
      "loathe              0\n",
      "dtype: int64\n",
      "\n",
      "================================\n"
     ]
    }
   ],
   "source": [
    "print('================================\\n')\n",
    "print(df.isnull().sum())\n",
    "print('\\n================================')"
   ]
  },
  {
   "cell_type": "markdown",
   "id": "f43f4c8c",
   "metadata": {
    "id": "f43f4c8c"
   },
   "source": [
    "### Drop unwanted column"
   ]
  },
  {
   "cell_type": "code",
   "execution_count": 5,
   "id": "b1c4126c",
   "metadata": {
    "colab": {
     "base_uri": "https://localhost:8080/",
     "height": 111
    },
    "id": "b1c4126c",
    "outputId": "ae8b98f6-a09e-4ac2-ed2a-e6937c31b1b9"
   },
   "outputs": [
    {
     "data": {
      "text/html": [
       "<div>\n",
       "<style scoped>\n",
       "    .dataframe tbody tr th:only-of-type {\n",
       "        vertical-align: middle;\n",
       "    }\n",
       "\n",
       "    .dataframe tbody tr th {\n",
       "        vertical-align: top;\n",
       "    }\n",
       "\n",
       "    .dataframe thead th {\n",
       "        text-align: right;\n",
       "    }\n",
       "</style>\n",
       "<table border=\"1\" class=\"dataframe\">\n",
       "  <thead>\n",
       "    <tr style=\"text-align: right;\">\n",
       "      <th></th>\n",
       "      <th>comment_text</th>\n",
       "    </tr>\n",
       "  </thead>\n",
       "  <tbody>\n",
       "    <tr>\n",
       "      <th>0</th>\n",
       "      <td>Yo bitch Ja Rule is more succesful then you'll...</td>\n",
       "    </tr>\n",
       "    <tr>\n",
       "      <th>1</th>\n",
       "      <td>== From RfC == \\n\\n The title is fine as it is...</td>\n",
       "    </tr>\n",
       "  </tbody>\n",
       "</table>\n",
       "</div>"
      ],
      "text/plain": [
       "                                        comment_text\n",
       "0  Yo bitch Ja Rule is more succesful then you'll...\n",
       "1  == From RfC == \\n\\n The title is fine as it is..."
      ]
     },
     "execution_count": 5,
     "metadata": {},
     "output_type": "execute_result"
    }
   ],
   "source": [
    "df2 = df2.drop('id', axis = 1)\n",
    "df2.head(2)"
   ]
  },
  {
   "cell_type": "markdown",
   "id": "m-89scmKEemc",
   "metadata": {
    "id": "m-89scmKEemc"
   },
   "source": [
    "### Download Pickel File"
   ]
  },
  {
   "cell_type": "code",
   "execution_count": 13,
   "id": "6zU2a0qwBDHG",
   "metadata": {
    "colab": {
     "base_uri": "https://localhost:8080/",
     "height": 17
    },
    "id": "6zU2a0qwBDHG",
    "outputId": "f4890966-4768-4a48-c610-3c71b25fc786"
   },
   "outputs": [
    {
     "data": {
      "application/javascript": [
       "\n",
       "    async function download(id, filename, size) {\n",
       "      if (!google.colab.kernel.accessAllowed) {\n",
       "        return;\n",
       "      }\n",
       "      const div = document.createElement('div');\n",
       "      const label = document.createElement('label');\n",
       "      label.textContent = `Downloading \"${filename}\": `;\n",
       "      div.appendChild(label);\n",
       "      const progress = document.createElement('progress');\n",
       "      progress.max = size;\n",
       "      div.appendChild(progress);\n",
       "      document.body.appendChild(div);\n",
       "\n",
       "      const buffers = [];\n",
       "      let downloaded = 0;\n",
       "\n",
       "      const channel = await google.colab.kernel.comms.open(id);\n",
       "      // Send a message to notify the kernel that we're ready.\n",
       "      channel.send({})\n",
       "\n",
       "      for await (const message of channel.messages) {\n",
       "        // Send a message to notify the kernel that we're ready.\n",
       "        channel.send({})\n",
       "        if (message.buffers) {\n",
       "          for (const buffer of message.buffers) {\n",
       "            buffers.push(buffer);\n",
       "            downloaded += buffer.byteLength;\n",
       "            progress.value = downloaded;\n",
       "          }\n",
       "        }\n",
       "      }\n",
       "      const blob = new Blob(buffers, {type: 'application/binary'});\n",
       "      const a = document.createElement('a');\n",
       "      a.href = window.URL.createObjectURL(blob);\n",
       "      a.download = filename;\n",
       "      div.appendChild(a);\n",
       "      a.click();\n",
       "      div.remove();\n",
       "    }\n",
       "  "
      ],
      "text/plain": [
       "<IPython.core.display.Javascript object>"
      ]
     },
     "metadata": {},
     "output_type": "display_data"
    },
    {
     "data": {
      "application/javascript": [
       "download(\"download_b88510c6-1278-41f8-9112-65d61b8b6a52\", \"MALIGNANT.pickle\", 160661)"
      ],
      "text/plain": [
       "<IPython.core.display.Javascript object>"
      ]
     },
     "metadata": {},
     "output_type": "display_data"
    }
   ],
   "source": [
    "from google.colab import files\n",
    "files.download('MALIGNANT.pickle')"
   ]
  },
  {
   "cell_type": "markdown",
   "id": "20ad4783",
   "metadata": {
    "id": "20ad4783"
   },
   "source": [
    "### Data Cleaning and Preprocessing"
   ]
  },
  {
   "cell_type": "code",
   "execution_count": 7,
   "id": "da6e13c6",
   "metadata": {
    "id": "da6e13c6"
   },
   "outputs": [],
   "source": [
    "ps = PorterStemmer()\n",
    "corpus = []\n",
    "for i in range(0, len(df2)):\n",
    "    comment = re.sub('[^a-zA-Z]',' ', df2['comment_text'][i])\n",
    "    comment = comment.lower()\n",
    "    comment = comment.split()\n",
    "    \n",
    "    comment = [ps.stem(word) for word in comment if not word in stopwords.words('english')]\n",
    "    comment = ' '. join(comment)\n",
    "    corpus.append(comment)"
   ]
  },
  {
   "cell_type": "markdown",
   "id": "678aedf8",
   "metadata": {
    "id": "678aedf8"
   },
   "source": [
    "### Creating Bag of Words"
   ]
  },
  {
   "cell_type": "code",
   "execution_count": 8,
   "id": "108a0c3e",
   "metadata": {
    "id": "108a0c3e"
   },
   "outputs": [],
   "source": [
    "cv = CountVectorizer(max_features = 5000)\n",
    "x = cv.fit_transform(corpus).toarray()[:5000]"
   ]
  },
  {
   "cell_type": "markdown",
   "id": "81f5df4d",
   "metadata": {
    "id": "81f5df4d"
   },
   "source": [
    "### Data Scaling"
   ]
  },
  {
   "cell_type": "code",
   "execution_count": 9,
   "id": "c96dae18",
   "metadata": {
    "colab": {
     "base_uri": "https://localhost:8080/"
    },
    "id": "c96dae18",
    "outputId": "88539713-d3c5-45bb-e221-a8a39d18b44e"
   },
   "outputs": [
    {
     "data": {
      "text/plain": [
       "array([[-1.89770821e-02,  0.00000000e+00,  0.00000000e+00, ...,\n",
       "        -1.41435500e-02, -2.31001716e-02, -1.41435500e-02],\n",
       "       [-1.89770821e-02,  0.00000000e+00,  0.00000000e+00, ...,\n",
       "        -1.41435500e-02, -2.31001716e-02, -1.41435500e-02],\n",
       "       [-1.89770821e-02,  0.00000000e+00,  0.00000000e+00, ...,\n",
       "        -1.41435500e-02, -2.31001716e-02, -1.41435500e-02],\n",
       "       ...,\n",
       "       [ 3.16094932e+01,  0.00000000e+00,  0.00000000e+00, ...,\n",
       "        -1.41435500e-02, -2.31001716e-02, -1.41435500e-02],\n",
       "       [-1.89770821e-02,  0.00000000e+00,  0.00000000e+00, ...,\n",
       "        -1.41435500e-02, -2.31001716e-02, -1.41435500e-02],\n",
       "       [-1.89770821e-02,  0.00000000e+00,  0.00000000e+00, ...,\n",
       "        -1.41435500e-02, -2.31001716e-02, -1.41435500e-02]])"
      ]
     },
     "execution_count": 9,
     "metadata": {},
     "output_type": "execute_result"
    }
   ],
   "source": [
    "scaler = StandardScaler()\n",
    "x_scaled = scaler.fit_transform(x)\n",
    "x_scaled"
   ]
  },
  {
   "cell_type": "markdown",
   "id": "1c98c8e2",
   "metadata": {
    "id": "1c98c8e2"
   },
   "source": [
    "#### Data has been scaled"
   ]
  },
  {
   "cell_type": "markdown",
   "id": "f10452dc",
   "metadata": {
    "id": "f10452dc"
   },
   "source": [
    "### Predict"
   ]
  },
  {
   "cell_type": "code",
   "execution_count": 11,
   "id": "8f39f63b",
   "metadata": {
    "id": "8f39f63b"
   },
   "outputs": [],
   "source": [
    "model = pickle.load(open('/content/MALIGNANT.pickle', 'rb'))"
   ]
  },
  {
   "cell_type": "code",
   "execution_count": 12,
   "id": "90204317",
   "metadata": {
    "colab": {
     "base_uri": "https://localhost:8080/",
     "height": 129
    },
    "id": "90204317",
    "outputId": "b8381295-4bb3-45ec-850d-340d23f019fa",
    "scrolled": true
   },
   "outputs": [
    {
     "data": {
      "text/html": [
       "<div>\n",
       "<style scoped>\n",
       "    .dataframe tbody tr th:only-of-type {\n",
       "        vertical-align: middle;\n",
       "    }\n",
       "\n",
       "    .dataframe tbody tr th {\n",
       "        vertical-align: top;\n",
       "    }\n",
       "\n",
       "    .dataframe thead th {\n",
       "        text-align: right;\n",
       "    }\n",
       "</style>\n",
       "<table border=\"1\" class=\"dataframe\">\n",
       "  <thead>\n",
       "    <tr style=\"text-align: right;\">\n",
       "      <th></th>\n",
       "      <th>0</th>\n",
       "      <th>1</th>\n",
       "      <th>2</th>\n",
       "      <th>3</th>\n",
       "      <th>4</th>\n",
       "      <th>5</th>\n",
       "      <th>6</th>\n",
       "      <th>7</th>\n",
       "      <th>8</th>\n",
       "      <th>9</th>\n",
       "      <th>10</th>\n",
       "      <th>11</th>\n",
       "      <th>12</th>\n",
       "      <th>13</th>\n",
       "      <th>14</th>\n",
       "      <th>15</th>\n",
       "      <th>16</th>\n",
       "      <th>17</th>\n",
       "      <th>18</th>\n",
       "      <th>19</th>\n",
       "      <th>20</th>\n",
       "      <th>21</th>\n",
       "      <th>22</th>\n",
       "      <th>23</th>\n",
       "      <th>24</th>\n",
       "      <th>25</th>\n",
       "      <th>26</th>\n",
       "      <th>27</th>\n",
       "      <th>28</th>\n",
       "      <th>29</th>\n",
       "      <th>30</th>\n",
       "      <th>31</th>\n",
       "      <th>32</th>\n",
       "      <th>33</th>\n",
       "      <th>34</th>\n",
       "      <th>35</th>\n",
       "      <th>36</th>\n",
       "      <th>37</th>\n",
       "      <th>38</th>\n",
       "      <th>39</th>\n",
       "      <th>...</th>\n",
       "      <th>4960</th>\n",
       "      <th>4961</th>\n",
       "      <th>4962</th>\n",
       "      <th>4963</th>\n",
       "      <th>4964</th>\n",
       "      <th>4965</th>\n",
       "      <th>4966</th>\n",
       "      <th>4967</th>\n",
       "      <th>4968</th>\n",
       "      <th>4969</th>\n",
       "      <th>4970</th>\n",
       "      <th>4971</th>\n",
       "      <th>4972</th>\n",
       "      <th>4973</th>\n",
       "      <th>4974</th>\n",
       "      <th>4975</th>\n",
       "      <th>4976</th>\n",
       "      <th>4977</th>\n",
       "      <th>4978</th>\n",
       "      <th>4979</th>\n",
       "      <th>4980</th>\n",
       "      <th>4981</th>\n",
       "      <th>4982</th>\n",
       "      <th>4983</th>\n",
       "      <th>4984</th>\n",
       "      <th>4985</th>\n",
       "      <th>4986</th>\n",
       "      <th>4987</th>\n",
       "      <th>4988</th>\n",
       "      <th>4989</th>\n",
       "      <th>4990</th>\n",
       "      <th>4991</th>\n",
       "      <th>4992</th>\n",
       "      <th>4993</th>\n",
       "      <th>4994</th>\n",
       "      <th>4995</th>\n",
       "      <th>4996</th>\n",
       "      <th>4997</th>\n",
       "      <th>4998</th>\n",
       "      <th>4999</th>\n",
       "    </tr>\n",
       "  </thead>\n",
       "  <tbody>\n",
       "    <tr>\n",
       "      <th>Predicted</th>\n",
       "      <td>0</td>\n",
       "      <td>1</td>\n",
       "      <td>1</td>\n",
       "      <td>1</td>\n",
       "      <td>1</td>\n",
       "      <td>1</td>\n",
       "      <td>1</td>\n",
       "      <td>1</td>\n",
       "      <td>1</td>\n",
       "      <td>1</td>\n",
       "      <td>1</td>\n",
       "      <td>0</td>\n",
       "      <td>1</td>\n",
       "      <td>0</td>\n",
       "      <td>1</td>\n",
       "      <td>1</td>\n",
       "      <td>1</td>\n",
       "      <td>1</td>\n",
       "      <td>0</td>\n",
       "      <td>1</td>\n",
       "      <td>1</td>\n",
       "      <td>1</td>\n",
       "      <td>1</td>\n",
       "      <td>0</td>\n",
       "      <td>0</td>\n",
       "      <td>0</td>\n",
       "      <td>1</td>\n",
       "      <td>1</td>\n",
       "      <td>1</td>\n",
       "      <td>0</td>\n",
       "      <td>1</td>\n",
       "      <td>1</td>\n",
       "      <td>0</td>\n",
       "      <td>1</td>\n",
       "      <td>1</td>\n",
       "      <td>1</td>\n",
       "      <td>1</td>\n",
       "      <td>1</td>\n",
       "      <td>0</td>\n",
       "      <td>0</td>\n",
       "      <td>...</td>\n",
       "      <td>1</td>\n",
       "      <td>0</td>\n",
       "      <td>0</td>\n",
       "      <td>0</td>\n",
       "      <td>1</td>\n",
       "      <td>0</td>\n",
       "      <td>1</td>\n",
       "      <td>1</td>\n",
       "      <td>1</td>\n",
       "      <td>1</td>\n",
       "      <td>1</td>\n",
       "      <td>0</td>\n",
       "      <td>1</td>\n",
       "      <td>1</td>\n",
       "      <td>1</td>\n",
       "      <td>0</td>\n",
       "      <td>0</td>\n",
       "      <td>1</td>\n",
       "      <td>1</td>\n",
       "      <td>1</td>\n",
       "      <td>1</td>\n",
       "      <td>0</td>\n",
       "      <td>1</td>\n",
       "      <td>1</td>\n",
       "      <td>1</td>\n",
       "      <td>0</td>\n",
       "      <td>1</td>\n",
       "      <td>0</td>\n",
       "      <td>1</td>\n",
       "      <td>1</td>\n",
       "      <td>0</td>\n",
       "      <td>1</td>\n",
       "      <td>1</td>\n",
       "      <td>1</td>\n",
       "      <td>1</td>\n",
       "      <td>1</td>\n",
       "      <td>1</td>\n",
       "      <td>0</td>\n",
       "      <td>0</td>\n",
       "      <td>1</td>\n",
       "    </tr>\n",
       "  </tbody>\n",
       "</table>\n",
       "<p>1 rows × 5000 columns</p>\n",
       "</div>"
      ],
      "text/plain": [
       "           0     1     2     3     4     ...  4995  4996  4997  4998  4999\n",
       "Predicted     0     1     1     1     1  ...     1     1     0     0     1\n",
       "\n",
       "[1 rows x 5000 columns]"
      ]
     },
     "execution_count": 12,
     "metadata": {},
     "output_type": "execute_result"
    }
   ],
   "source": [
    "Prediction = pd.DataFrame([model.predict(x_scaled)], index = ['Predicted'])\n",
    "Prediction"
   ]
  },
  {
   "cell_type": "code",
   "execution_count": null,
   "id": "70005e6b",
   "metadata": {
    "id": "70005e6b"
   },
   "outputs": [],
   "source": []
  }
 ],
 "metadata": {
  "colab": {
   "collapsed_sections": [
    "324e6324",
    "99777b95",
    "8a3d64e4",
    "5c4cd451",
    "c81b04e4",
    "4d78eb7b",
    "641db927",
    "edf1272c",
    "1c98c8e2"
   ],
   "name": "a.ipynb",
   "provenance": []
  },
  "kernelspec": {
   "display_name": "Python 3",
   "language": "python",
   "name": "python3"
  },
  "language_info": {
   "codemirror_mode": {
    "name": "ipython",
    "version": 3
   },
   "file_extension": ".py",
   "mimetype": "text/x-python",
   "name": "python",
   "nbconvert_exporter": "python",
   "pygments_lexer": "ipython3",
   "version": "3.8.8"
  }
 },
 "nbformat": 4,
 "nbformat_minor": 5
}
